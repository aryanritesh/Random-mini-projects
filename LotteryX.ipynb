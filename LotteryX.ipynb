{
  "nbformat": 4,
  "nbformat_minor": 0,
  "metadata": {
    "colab": {
      "name": "LotteryX.ipynb",
      "provenance": [],
      "collapsed_sections": [],
      "authorship_tag": "ABX9TyN7/YFBozAUveyP6l7u0bfa",
      "include_colab_link": true
    },
    "kernelspec": {
      "name": "python3",
      "display_name": "Python 3"
    },
    "language_info": {
      "name": "python"
    }
  },
  "cells": [
    {
      "cell_type": "markdown",
      "metadata": {
        "id": "view-in-github",
        "colab_type": "text"
      },
      "source": [
        "<a href=\"https://colab.research.google.com/github/aryanritesh/Random-mini-projects/blob/main/LotteryX.ipynb\" target=\"_parent\"><img src=\"https://colab.research.google.com/assets/colab-badge.svg\" alt=\"Open In Colab\"/></a>"
      ]
    },
    {
      "cell_type": "code",
      "execution_count": 31,
      "metadata": {
        "colab": {
          "base_uri": "https://localhost:8080/"
        },
        "id": "ypv1j1RD-mCo",
        "outputId": "54570696-acf1-4051-d2ac-6d21f96176f2"
      },
      "outputs": [
        {
          "output_type": "stream",
          "name": "stdout",
          "text": [
            "Welcome to the Lottery game\n",
            "Enter a number from 0-99 :78\n",
            "Better luck next time.\n",
            "The number was 69\n"
          ]
        }
      ],
      "source": [
        "import random\n",
        "r=random.randint(0,99)\n",
        "print(\"Welcome to the Lottery game\")\n",
        "x=int(input(\"Enter a number from 0-99 :\"))\n",
        "if (x==r):\n",
        "  print(\"Congratulations you have won!\")\n",
        "else:\n",
        "    print(\"Better luck next time.\")\n",
        "    print(\"The number was\",r)\n"
      ]
    }
  ]
}