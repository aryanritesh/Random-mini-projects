{
  "nbformat": 4,
  "nbformat_minor": 0,
  "metadata": {
    "colab": {
      "name": "Vibesss.ipynb",
      "provenance": [],
      "authorship_tag": "ABX9TyPgULpm1ZIT57PHcvCIE1tU",
      "include_colab_link": true
    },
    "kernelspec": {
      "name": "python3",
      "display_name": "Python 3"
    },
    "language_info": {
      "name": "python"
    }
  },
  "cells": [
    {
      "cell_type": "markdown",
      "metadata": {
        "id": "view-in-github",
        "colab_type": "text"
      },
      "source": [
        "<a href=\"https://colab.research.google.com/github/aryanritesh/Random-mini-projects/blob/main/Vibesss.ipynb\" target=\"_parent\"><img src=\"https://colab.research.google.com/assets/colab-badge.svg\" alt=\"Open In Colab\"/></a>"
      ]
    },
    {
      "cell_type": "code",
      "source": [
        "import random\n",
        "rounds=3\n",
        "a=['a','b','c','d']\n",
        "x=random.choice(a)\n",
        "while rounds>0:\n",
        "    q=input(\"Enter a letter :\")\n",
        "    rounds=rounds-1\n",
        "    if q==\"a\":\n",
        "      print(\"nice\")\n",
        "    else:\n",
        "     print(x)"
      ],
      "metadata": {
        "colab": {
          "base_uri": "https://localhost:8080/"
        },
        "id": "UUQfoJv3TaWd",
        "outputId": "02c35414-87f7-401f-e1e8-682d3fdb84eb"
      },
      "execution_count": null,
      "outputs": [
        {
          "output_type": "stream",
          "name": "stdout",
          "text": [
            "Enter a letter :a\n",
            "nice\n",
            "Enter a letter :b\n",
            "a\n",
            "Enter a letter :c\n",
            "a\n"
          ]
        }
      ]
    },
    {
      "cell_type": "code",
      "source": [
        "import random\n",
        "import time\n",
        "dice1=random.randint(1,6)\n",
        "dice2=random.randint(1,6)\n",
        "sum=dice1+dice2\n",
        "print(\"Welcome to the dice game!\")\n",
        "x=input(\"Press y to continue:\")\n",
        "while x==\"y\":\n",
        "  print(\"Rolling...\")\n",
        "  time.sleep(2)\n",
        "  print(\"dice 1 shows..\",dice1)\n",
        "  print(\"rolling dice 2..\")\n",
        "  time.sleep(2)\n",
        "  print(\"dice 2 shows..\",dice2)\n",
        "  print(\"The sum of the two rolls is \",sum)\n",
        "  q=input(\"Press y to roll again:\")\n",
        "  if q!=\"y\":\n",
        "    break\n"
      ],
      "metadata": {
        "colab": {
          "base_uri": "https://localhost:8080/"
        },
        "id": "3PA9qcay-J20",
        "outputId": "6dcbbe99-9ffe-4a3a-dda3-a978552c94b0"
      },
      "execution_count": 4,
      "outputs": [
        {
          "name": "stdout",
          "output_type": "stream",
          "text": [
            "Welcome to the dice game!\n",
            "Press y to continue:y\n",
            "Rolling...\n",
            "dice 1 shows.. 2\n",
            "rolling dice 2..\n",
            "dice 2 shows.. 6\n",
            "The sum of the two rolls is  8\n",
            "Press y to roll again:n\n"
          ]
        }
      ]
    }
  ]
}