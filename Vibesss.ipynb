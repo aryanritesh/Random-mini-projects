{
  "nbformat": 4,
  "nbformat_minor": 0,
  "metadata": {
    "colab": {
      "name": "Vibesss.ipynb",
      "provenance": [],
      "authorship_tag": "ABX9TyMyOHRQPCfanyv+wYgH0eJT",
      "include_colab_link": true
    },
    "kernelspec": {
      "name": "python3",
      "display_name": "Python 3"
    },
    "language_info": {
      "name": "python"
    }
  },
  "cells": [
    {
      "cell_type": "markdown",
      "metadata": {
        "id": "view-in-github",
        "colab_type": "text"
      },
      "source": [
        "<a href=\"https://colab.research.google.com/github/aryanritesh/Random-mini-projects/blob/main/Vibesss.ipynb\" target=\"_parent\"><img src=\"https://colab.research.google.com/assets/colab-badge.svg\" alt=\"Open In Colab\"/></a>"
      ]
    },
    {
      "cell_type": "code",
      "source": [
        "import random\n",
        "rounds=3\n",
        "a=['a','b','c','d']\n",
        "x=random.choice(a)\n",
        "while rounds>0:\n",
        "    q=input(\"Enter a letter :\")\n",
        "    rounds=rounds-1\n",
        "    if q==\"a\":\n",
        "      print(\"nice\")\n",
        "    else:\n",
        "     print(x)"
      ],
      "metadata": {
        "colab": {
          "base_uri": "https://localhost:8080/"
        },
        "id": "UUQfoJv3TaWd",
        "outputId": "02c35414-87f7-401f-e1e8-682d3fdb84eb"
      },
      "execution_count": 12,
      "outputs": [
        {
          "output_type": "stream",
          "name": "stdout",
          "text": [
            "Enter a letter :a\n",
            "nice\n",
            "Enter a letter :b\n",
            "a\n",
            "Enter a letter :c\n",
            "a\n"
          ]
        }
      ]
    }
  ]
}