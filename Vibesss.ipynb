{
  "nbformat": 4,
  "nbformat_minor": 0,
  "metadata": {
    "colab": {
      "name": "Vibesss.ipynb",
      "provenance": [],
      "authorship_tag": "ABX9TyM9Fi2FRmNBxjvrF4jbWJ1l",
      "include_colab_link": true
    },
    "kernelspec": {
      "name": "python3",
      "display_name": "Python 3"
    },
    "language_info": {
      "name": "python"
    }
  },
  "cells": [
    {
      "cell_type": "markdown",
      "metadata": {
        "id": "view-in-github",
        "colab_type": "text"
      },
      "source": [
        "<a href=\"https://colab.research.google.com/github/aryanritesh/Random-mini-projects/blob/main/Vibesss.ipynb\" target=\"_parent\"><img src=\"https://colab.research.google.com/assets/colab-badge.svg\" alt=\"Open In Colab\"/></a>"
      ]
    },
    {
      "cell_type": "code",
      "source": [
        "import random\n",
        "rounds=3\n",
        "a=['a','b','c','d']\n",
        "x=random.choice(a)\n",
        "while rounds>0:\n",
        "    q=input(\"Enter a letter :\")\n",
        "    rounds=rounds-1\n",
        "    if q==\"a\":\n",
        "      print(\"nice\")\n",
        "    else:\n",
        "     print(x)"
      ],
      "metadata": {
        "colab": {
          "base_uri": "https://localhost:8080/"
        },
        "id": "UUQfoJv3TaWd",
        "outputId": "02c35414-87f7-401f-e1e8-682d3fdb84eb"
      },
      "execution_count": null,
      "outputs": [
        {
          "output_type": "stream",
          "name": "stdout",
          "text": [
            "Enter a letter :a\n",
            "nice\n",
            "Enter a letter :b\n",
            "a\n",
            "Enter a letter :c\n",
            "a\n"
          ]
        }
      ]
    },
    {
      "cell_type": "code",
      "source": [
        "import random\n",
        "import time\n",
        "dice1=random.randint(1,6)\n",
        "dice2=random.randint(1,6)\n",
        "sum=dice1+dice2\n",
        "print(\"Welcome to the dice game!\")\n",
        "x=input(\"Press y to continue:\")\n",
        "while x==\"y\":\n",
        "  print(\"Rolling...\")\n",
        "  time.sleep(2)\n",
        "  print(\"dice 1 shows..\",dice1)\n",
        "  print(\"rolling dice 2..\")\n",
        "  time.sleep(2)\n",
        "  print(\"dice 2 shows..\",dice2)\n",
        "  print(\"The sum of the two rolls is \",sum)\n",
        "  q=input(\"Press y to roll again:\")\n",
        "  if q!=\"y\":\n",
        "    break\n"
      ],
      "metadata": {
        "colab": {
          "base_uri": "https://localhost:8080/"
        },
        "id": "3PA9qcay-J20",
        "outputId": "6dcbbe99-9ffe-4a3a-dda3-a978552c94b0"
      },
      "execution_count": null,
      "outputs": [
        {
          "name": "stdout",
          "output_type": "stream",
          "text": [
            "Welcome to the dice game!\n",
            "Press y to continue:y\n",
            "Rolling...\n",
            "dice 1 shows.. 2\n",
            "rolling dice 2..\n",
            "dice 2 shows.. 6\n",
            "The sum of the two rolls is  8\n",
            "Press y to roll again:n\n"
          ]
        }
      ]
    },
    {
      "cell_type": "code",
      "source": [
        "#madlibs\n",
        "adj=input(\"Adjective:\")\n",
        "verb1=input(\"Verb:\")\n",
        "verb2=input(\"Verb:\")\n",
        "randomName=input(\"Random name:\")\n",
        "\n",
        "madlib= f\"Jumping of the cliff is so {adj}!, It makes me feel so good because, I love to {verb1}.\\\n",
        "Let the world think whatever they want but I will stay pumped and {verb2} just like {randomName}.\"\n",
        "print(madlib)"
      ],
      "metadata": {
        "colab": {
          "base_uri": "https://localhost:8080/"
        },
        "id": "moB11PoJc9xY",
        "outputId": "6493848b-e371-492a-fe58-8770653e1a11"
      },
      "execution_count": 7,
      "outputs": [
        {
          "output_type": "stream",
          "name": "stdout",
          "text": [
            "Adjective:amazing\n",
            "Verb:jogging\n",
            "Verb:dancing\n",
            "Random name:John Cena\n",
            "Jumping of the cliff is so amazing!, It makes me feel so good because, I love to jogging.Let the world think whatever they want but I will stay pumped and dancing just like John Cena.\n"
          ]
        }
      ]
    },
    {
      "cell_type": "code",
      "source": [
        "#rock, paper,scissors\n",
        "import random\n",
        "op=['r','p','s']\n",
        "print(\"What is your choice?\")\n",
        "user=input(\"r for rock, p for paper, s for scissors:\")\n",
        "comp=random.choice(op)\n",
        "\n",
        "if user==comp:\n",
        "   print('It is a draw')\n",
        "   print(f\"The computer chose {comp}\")\n",
        "\n",
        "elif win(user, comp):\n",
        "    print('You win!')\n",
        "    print(f\"The computer chose {comp}\")\n",
        "\n",
        "else:\n",
        "  print('oops you lost')\n",
        "  print(f\"The computer chose {comp}\")\n",
        "\n",
        "def win(player,opponent):\n",
        "  if(player=='r' and opponent=='s') or (player=='s' and opponent=='p') or\\\n",
        "     (player=='p' and opponent=='r'):\n",
        "     return True\n"
      ],
      "metadata": {
        "colab": {
          "base_uri": "https://localhost:8080/"
        },
        "id": "1eXhyMrll_60",
        "outputId": "0088b327-3443-45cc-aa83-7dcfdb9e8390"
      },
      "execution_count": 34,
      "outputs": [
        {
          "output_type": "stream",
          "name": "stdout",
          "text": [
            "What is your choice?\n",
            "r for rock, p for paper, s for scissors:p\n",
            "oops you lost\n",
            "The computer chose s\n"
          ]
        }
      ]
    }
  ]
}