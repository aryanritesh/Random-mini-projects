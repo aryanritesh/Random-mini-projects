{
  "nbformat": 4,
  "nbformat_minor": 0,
  "metadata": {
    "colab": {
      "name": "chatBotX.ipynb",
      "provenance": [],
      "collapsed_sections": [],
      "authorship_tag": "ABX9TyPABFwufPXQY6sugyyzWIHc",
      "include_colab_link": true
    },
    "kernelspec": {
      "name": "python3",
      "display_name": "Python 3"
    },
    "language_info": {
      "name": "python"
    }
  },
  "cells": [
    {
      "cell_type": "markdown",
      "metadata": {
        "id": "view-in-github",
        "colab_type": "text"
      },
      "source": [
        "<a href=\"https://colab.research.google.com/github/aryanritesh/Random-mini-projects/blob/main/chatBotX.ipynb\" target=\"_parent\"><img src=\"https://colab.research.google.com/assets/colab-badge.svg\" alt=\"Open In Colab\"/></a>"
      ]
    },
    {
      "cell_type": "code",
      "execution_count": 38,
      "metadata": {
        "colab": {
          "base_uri": "https://localhost:8080/"
        },
        "id": "eL7bnFt6xXNQ",
        "outputId": "28bc992c-a60f-4687-f6e2-c5bba251630e"
      },
      "outputs": [
        {
          "output_type": "stream",
          "name": "stdout",
          "text": [
            "I am Jackson, a fun chat Bot\n",
            "You:ssup\n",
            "Jackson:nothing much, you?\n",
            "You:ssup\n",
            "Jackson:nothing much, you?\n",
            "You:ssup\n",
            "Jackson:nothing much, you?\n",
            "You:what is up\n",
            "Jackson:nothing much, you?\n",
            "You:nice\n",
            "Jackson:Good to know\n",
            "You:bye\n",
            "Jackson:see you soon\n"
          ]
        }
      ],
      "source": [
        "import random\n",
        "greeting= [\"hi\", \"hello\", \"hey\", \"yo\"]\n",
        "replyGreet=['heyya','hello', 'hey', 'yo', 'hiiii']\n",
        "condition=[\"how are you\", \"how are you doing\"]\n",
        "replyCond=[\"I am fine, how are you?\", \"up and running, how about you?\",\"young,wild and free, and you?\"]\n",
        "status=['i am good','I am fine', 'doing well','fine','good','nice']\n",
        "replyStatus=['Good to know','Okay','That is nice','oou good']\n",
        "ssup=[\"what is up\",\"ssup\",\"what are you doing\"]\n",
        "replySsup=['just chillin, you?','surfing the net for cute puppy videos, you?','nothing much, you?']\n",
        "hobbies=['what are your hobbies?','what do you like?','what do you enjoy?']\n",
        "movies=['what are your favorite movies?','which is your favorite movie?','which movies do you like?']\n",
        "replyM=['I love the avengers!','Huge fan of dbz movies','The matrix']\n",
        "replyH=['I love watching netflix, you?', 'I love anime, how about you?', 'I love to draw and paint, and you?']\n",
        "bye=['bye','goodbye','see you']\n",
        "replyBye=['bbye','see you soon','take care, bye']\n",
        "print(\"I am Jackson, a fun chat Bot\")\n",
        "while True:\n",
        "    Text=input(\"You:\")\n",
        "    Text=Text.lower()\n",
        "    if Text in greeting:\n",
        "      reply=random.choice(replyGreet)\n",
        "      print(\"Jackson:\"+reply)\n",
        "    elif Text in condition:\n",
        "      reply=random.choice(replyCond)\n",
        "      print(\"Jackson:\"+reply)\n",
        "    elif Text in ssup:\n",
        "        reply=random.choice(replySsup)\n",
        "        print(\"Jackson:\"+reply)\n",
        "    elif Text in hobbies:\n",
        "        reply=random.choice(replyH)\n",
        "        print(\"Jackson:\"+reply)\n",
        "    elif Text in status:\n",
        "        reply=random.choice(replyStatus)\n",
        "        print(\"Jackson:\"+reply)\n",
        "    elif Text in movies:\n",
        "      reply=random.choice(replyM)\n",
        "      print(\"Jackson:\"+reply)\n",
        "    elif Text in bye:\n",
        "          reply=random.choice(replyBye)\n",
        "          print(\"Jackson:\"+reply)\n",
        "          break;\n"
      ]
    }
  ]
}